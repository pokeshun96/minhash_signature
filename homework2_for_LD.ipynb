{
 "cells": [
  {
   "cell_type": "code",
   "execution_count": null,
   "id": "5cedda92",
   "metadata": {},
   "outputs": [],
   "source": [
    "import random as rd\n",
    "import numpy as np\n",
    "import sys "
   ]
  },
  {
   "cell_type": "code",
   "execution_count": null,
   "id": "1c416a30",
   "metadata": {},
   "outputs": [],
   "source": [
    "def subsets(L, density):\n",
    "    subset = [i for i in range(L) if rd.random() < density]\n",
    "    binary = [1 if i in subset else 0 for i in range(L)]\n",
    "    return subset, binary"
   ]
  },
  {
   "cell_type": "code",
   "execution_count": null,
   "id": "d3c357c7",
   "metadata": {},
   "outputs": [],
   "source": [
    "def minhash(M, hash_value_list):\n",
    "    length = min(M.shape[0], hash_value_list.shape[0])\n",
    "    SIG = np.full((hash_value_list.shape[1], M.shape[1]), np.inf)\n",
    "    for row_idx in range(length):\n",
    "        s_row_vector = M[row_idx]\n",
    "        h_row_vector = hash_value_list[row_idx]\n",
    "        for s_idx, s_num in enumerate(s_row_vector):\n",
    "            if s_num == 1:\n",
    "                SIG[:, s_idx] = np.minimum(SIG[:, s_idx], h_row_vector)\n",
    "    return SIG\n"
   ]
  },
  {
   "cell_type": "code",
   "execution_count": null,
   "id": "76ae91ce",
   "metadata": {},
   "outputs": [],
   "source": [
    "def jaccard(a, b):\n",
    "    a = set(a)\n",
    "    b = set(b)\n",
    "    return len(a & b) / len(a | b)\n"
   ]
  },
  {
   "cell_type": "code",
   "execution_count": null,
   "id": "2e9e5fc2",
   "metadata": {},
   "outputs": [],
   "source": [
    "def SIG_similarity(SIG, i, j):\n",
    "    return (SIG[i] == SIG[j]).mean()\n"
   ]
  },
  {
   "cell_type": "markdown",
   "id": "37d52721",
   "metadata": {},
   "source": [
    "# the much bigger example"
   ]
  },
  {
   "cell_type": "code",
   "execution_count": null,
   "id": "d119a1e8",
   "metadata": {},
   "outputs": [],
   "source": [
    "bignum = 10000\n",
    "is_prime = [True for _ in range(bignum+1)]\n",
    "is_prime[0] = False\n",
    "\n",
    "for i in range(2, bignum+1):\n",
    "    if is_prime[i-1]:\n",
    "        j = 2 * i\n",
    "        while j <= bignum:\n",
    "            is_prime[j-1] = False\n",
    "            j += i\n",
    "table = [i for i in range(1, bignum+1) if is_prime[i-1]]\n",
    "L = table[-1]\n",
    "S = [i for i in range(L)]\n",
    "Q = 500\n",
    "subset_list = []\n",
    "M = []\n",
    "seen = set()\n",
    "n = table[30]\n",
    "density = 0.1\n",
    "\n",
    "\n",
    "created_subset_cnt = 0\n",
    "while created_subset_cnt < Q:\n",
    "    subset, binary = subsets(L, density)\n",
    "    subset = tuple(subset)\n",
    "    if subset not in seen:\n",
    "        created_subset_cnt += 1\n",
    "        seen.add(subset)\n",
    "        subset_list.append(subset)\n",
    "        M.append(binary)\n",
    "\n",
    "M = np.array(M).transpose()\n",
    "\n",
    "hash_value_list = []\n",
    "for i in range(n):\n",
    "    if i == 0:\n",
    "        prime = 1\n",
    "    else:\n",
    "        prime = table[i-1]\n",
    "    hash_value = []\n",
    "    for x in range(L):\n",
    "        hash_value.append((prime*x+2) % L)\n",
    "    hash_value_list.append(hash_value)\n",
    "hash_value_list = np.array(hash_value_list).transpose()\n",
    "\n",
    "\n",
    "SIG = minhash(M, hash_value_list)\n",
    "SIG = SIG.transpose()\n",
    "\n",
    "\n",
    "random_list = [i for i in range(Q)]\n",
    "rd.shuffle(random_list)\n",
    "random_i = random_list[0]\n",
    "random_j = random_list[1]\n",
    "if random_i > random_j:\n",
    "    random_i, random_j = random_j, random_i\n",
    "\n",
    "subset_i = subset_list[random_i]\n",
    "subset_j = subset_list[random_j]\n",
    "\n",
    "SIG_approximated_similarity = SIG_similarity(SIG, random_i, random_j)\n",
    "print(\"SIG approxiated Similarity of subset_{0} and subset_{1} is {2:.5f}\".format(random_i, random_j, SIG_approximated_similarity))\n",
    "\n",
    "jaccard_similarity = jaccard(subset_i, subset_j)\n",
    "print(\"Jaccard Similarity of subset_{0} and subset_{1} is {2:.5f}\".format(random_i, random_j, jaccard_similarity))"
   ]
  },
  {
   "cell_type": "markdown",
   "id": "b9a4cf24",
   "metadata": {},
   "source": [
    "# the example from class"
   ]
  },
  {
   "cell_type": "code",
   "execution_count": null,
   "id": "576880e5",
   "metadata": {
    "scrolled": true
   },
   "outputs": [],
   "source": [
    "bignum = 5\n",
    "is_prime = [True for _ in range(bignum+1)]\n",
    "is_prime[0] = False\n",
    "\n",
    "for i in range(2, bignum+1):\n",
    "    if is_prime[i-1]:\n",
    "        j = 2 * i\n",
    "        while j <= bignum:\n",
    "            is_prime[j-1] = False\n",
    "            j += i\n",
    "table = [i for i in range(1, bignum+1) if is_prime[i-1]]\n",
    "L = table[-1]\n",
    "S = [i for i in range(L)]\n",
    "Q = 3\n",
    "subset_list = []\n",
    "M = []\n",
    "seen = set()\n",
    "n = table[0]\n",
    "\n",
    "created_subset_cnt = 0\n",
    "\n",
    "subset_list.append([0,2,4])\n",
    "M.append([1,0,1,0,1])\n",
    "subset_list.append([2,3])\n",
    "M.append([0,0,1,1,0])\n",
    "subset_list.append([0,1,3])\n",
    "M.append([1,1,0,1,0])\n",
    "\n",
    "M = np.array(M).transpose()\n",
    "print(M)\n",
    "\n",
    "\n",
    "hash_value_list = []\n",
    "for i in range(n):\n",
    "    if i == 0:\n",
    "        prime = 1\n",
    "    else:\n",
    "        prime = table[i]\n",
    "    hash_value = []\n",
    "    for x in range(L):\n",
    "        hash_value.append((prime*x+1) % L)\n",
    "    hash_value_list.append(hash_value)\n",
    "hash_value_list = np.array(hash_value_list).transpose()\n",
    "\n",
    "SIG = minhash(M, hash_value_list)\n",
    "SIG = SIG.transpose()\n",
    "\n",
    "random_list = [i for i in range(Q)]\n",
    "rd.shuffle(random_list)\n",
    "random_i = 0\n",
    "random_j = 2\n",
    "if random_i > random_j:\n",
    "    random_i, random_j = random_j, random_i\n",
    "subset_i = subset_list[random_i]\n",
    "subset_j = subset_list[random_j]\n",
    "\n",
    "SIG_approximated_similarity = SIG_similarity(SIG, random_i, random_j)\n",
    "print(\"SIG approxiated Similarity of subset_{0} and subset_{1} is {2:.1f}\".format(random_i, random_j, SIG_approximated_similarity))\n",
    "\n",
    "jaccard_similarity = jaccard(subset_i, subset_j)\n",
    "print(\"Jaccard Similarity of subset_{0} and subset_{1} is {2:.1f}\".format(random_i, random_j, jaccard_similarity))"
   ]
  }
 ],
 "metadata": {
  "kernelspec": {
   "display_name": "Python 3 (ipykernel)",
   "language": "python",
   "name": "python3"
  },
  "language_info": {
   "codemirror_mode": {
    "name": "ipython",
    "version": 3
   },
   "file_extension": ".py",
   "mimetype": "text/x-python",
   "name": "python",
   "nbconvert_exporter": "python",
   "pygments_lexer": "ipython3",
   "version": "3.9.7"
  }
 },
 "nbformat": 4,
 "nbformat_minor": 5
}
